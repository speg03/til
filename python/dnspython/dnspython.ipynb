{
 "cells": [
  {
   "cell_type": "code",
   "execution_count": 1,
   "metadata": {},
   "outputs": [],
   "source": [
    "import socket\n",
    "from dns import resolver, reversename"
   ]
  },
  {
   "cell_type": "code",
   "execution_count": 2,
   "metadata": {},
   "outputs": [
    {
     "output_type": "execute_result",
     "data": {
      "text/plain": "'172.217.24.132'"
     },
     "metadata": {},
     "execution_count": 2
    }
   ],
   "source": [
    "socket.gethostbyname(\"www.google.com\")"
   ]
  },
  {
   "cell_type": "code",
   "execution_count": 3,
   "metadata": {},
   "outputs": [
    {
     "output_type": "execute_result",
     "data": {
      "text/plain": "('nrt20s01-in-f132.1e100.net',\n ['132.24.217.172.in-addr.arpa',\n  'syd09s06-in-f4.1e100.net',\n  'nrt20s01-in-f4.1e100.net'],\n ['172.217.24.132'])"
     },
     "metadata": {},
     "execution_count": 3
    }
   ],
   "source": [
    "socket.gethostbyaddr(\"172.217.24.132\")"
   ]
  },
  {
   "cell_type": "markdown",
   "metadata": {},
   "source": [
    "# DNS resolver query"
   ]
  },
  {
   "cell_type": "code",
   "execution_count": 4,
   "metadata": {},
   "outputs": [
    {
     "output_type": "execute_result",
     "data": {
      "text/plain": "['172.217.175.228']"
     },
     "metadata": {},
     "execution_count": 4
    }
   ],
   "source": [
    "answers = resolver.query(\"www.google.com\")\n",
    "[answer.to_text() for answer in answers]"
   ]
  },
  {
   "cell_type": "code",
   "execution_count": 5,
   "metadata": {},
   "outputs": [
    {
     "output_type": "execute_result",
     "data": {
      "text/plain": "<DNS name 228.175.217.172.in-addr.arpa.>"
     },
     "metadata": {},
     "execution_count": 5
    }
   ],
   "source": [
    "reversename.from_address(\"172.217.175.228\")"
   ]
  },
  {
   "cell_type": "code",
   "execution_count": 6,
   "metadata": {},
   "outputs": [
    {
     "output_type": "execute_result",
     "data": {
      "text/plain": "['nrt12s29-in-f4.1e100.net.']"
     },
     "metadata": {},
     "execution_count": 6
    }
   ],
   "source": [
    "answers = resolver.query(reversename.from_address(\"172.217.175.228\"), \"PTR\")\n",
    "[answer.to_text() for answer in answers]"
   ]
  },
  {
   "cell_type": "markdown",
   "metadata": {},
   "source": [
    "# Specific nameservers"
   ]
  },
  {
   "cell_type": "code",
   "execution_count": 7,
   "metadata": {},
   "outputs": [],
   "source": [
    "res = resolver.Resolver()\n",
    "res.nameservers = [\"8.8.8.8\"]"
   ]
  },
  {
   "cell_type": "code",
   "execution_count": 8,
   "metadata": {},
   "outputs": [
    {
     "output_type": "execute_result",
     "data": {
      "text/plain": "['172.217.161.36']"
     },
     "metadata": {},
     "execution_count": 8
    }
   ],
   "source": [
    "answers = res.query(\"www.google.com\")\n",
    "[answer.to_text() for answer in answers]"
   ]
  },
  {
   "cell_type": "code",
   "execution_count": 9,
   "metadata": {},
   "outputs": [
    {
     "output_type": "execute_result",
     "data": {
      "text/plain": "['nrt12s23-in-f4.1e100.net.']"
     },
     "metadata": {},
     "execution_count": 9
    }
   ],
   "source": [
    "answers = res.query(reversename.from_address(\"172.217.161.36\"), \"PTR\")\n",
    "[answer.to_text() for answer in answers]"
   ]
  }
 ],
 "metadata": {
  "language_info": {
   "codemirror_mode": {
    "name": "ipython",
    "version": 3
   },
   "file_extension": ".py",
   "mimetype": "text/x-python",
   "name": "python",
   "nbconvert_exporter": "python",
   "pygments_lexer": "ipython3",
   "version": "3.7.7-final"
  },
  "orig_nbformat": 2,
  "kernelspec": {
   "name": "python37764bitdnsvenve9a8b9c09c7c4f1d940d4b79af4cbb82",
   "display_name": "Python 3.7.7 64-bit ('dns': venv)"
  }
 },
 "nbformat": 4,
 "nbformat_minor": 2
}