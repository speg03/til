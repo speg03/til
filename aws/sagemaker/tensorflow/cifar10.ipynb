{
 "cells": [
  {
   "cell_type": "markdown",
   "metadata": {},
   "source": [
    "# 0. S3バケットの作成"
   ]
  },
  {
   "cell_type": "markdown",
   "metadata": {},
   "source": [
    "あらかじめS3バケットを作成しておく。"
   ]
  },
  {
   "cell_type": "code",
   "execution_count": 1,
   "metadata": {},
   "outputs": [],
   "source": [
    "bucket = 'speg03-sagemaker'"
   ]
  },
  {
   "cell_type": "markdown",
   "metadata": {},
   "source": [
    "# 1. SageMakerセッションの作成"
   ]
  },
  {
   "cell_type": "code",
   "execution_count": 2,
   "metadata": {},
   "outputs": [],
   "source": [
    "from sagemaker import Session, get_execution_role"
   ]
  },
  {
   "cell_type": "code",
   "execution_count": 3,
   "metadata": {},
   "outputs": [],
   "source": [
    "session = Session()\n",
    "role = get_execution_role()"
   ]
  },
  {
   "cell_type": "markdown",
   "metadata": {},
   "source": [
    "# 2. データセットの準備"
   ]
  },
  {
   "cell_type": "code",
   "execution_count": 4,
   "metadata": {},
   "outputs": [],
   "source": [
    "import numpy as np\n",
    "from tensorflow.keras.datasets.cifar10 import load_data"
   ]
  },
  {
   "cell_type": "code",
   "execution_count": 5,
   "metadata": {},
   "outputs": [],
   "source": [
    "(x_train, y_train), (x_test, y_test) = load_data()\n",
    "\n",
    "!mkdir -p ./data/cifar10/{train,val}\n",
    "np.savez('./data/cifar10/train/cifar10_train.npz', x=x_train, y=y_train)\n",
    "np.savez('./data/cifar10/val/cifar10_val.npz', x=x_test, y=y_test)"
   ]
  },
  {
   "cell_type": "code",
   "execution_count": 6,
   "metadata": {},
   "outputs": [
    {
     "data": {
      "text/plain": [
       "'s3://speg03-sagemaker/data/cifar10/train'"
      ]
     },
     "execution_count": 6,
     "metadata": {},
     "output_type": "execute_result"
    }
   ],
   "source": [
    "train_data = session.upload_data('./data/cifar10/train', bucket=bucket, key_prefix='data/cifar10/train')\n",
    "train_data"
   ]
  },
  {
   "cell_type": "code",
   "execution_count": 7,
   "metadata": {},
   "outputs": [
    {
     "data": {
      "text/plain": [
       "'s3://speg03-sagemaker/data/cifar10/val'"
      ]
     },
     "execution_count": 7,
     "metadata": {},
     "output_type": "execute_result"
    }
   ],
   "source": [
    "val_data = session.upload_data('./data/cifar10/val', bucket=bucket, key_prefix='data/cifar10/val')\n",
    "val_data"
   ]
  },
  {
   "cell_type": "markdown",
   "metadata": {},
   "source": [
    "# 2. ローカルモードで学習"
   ]
  },
  {
   "cell_type": "code",
   "execution_count": 8,
   "metadata": {},
   "outputs": [],
   "source": [
    "from sagemaker.tensorflow import TensorFlow"
   ]
  },
  {
   "cell_type": "code",
   "execution_count": 9,
   "metadata": {},
   "outputs": [],
   "source": [
    "estimator = TensorFlow(\n",
    "    role=role,\n",
    "    source_dir='src',\n",
    "    entry_point='train.py',\n",
    "    train_instance_count=1,\n",
    "    train_instance_type='local',\n",
    "    framework_version='1.12.0',\n",
    "    py_version='py3',\n",
    "\n",
    "    hyperparameters=dict(\n",
    "        limit_data_rate=0.01\n",
    "    ),\n",
    "\n",
    "    code_location=f's3://{bucket}/local_output',\n",
    "    output_path=f's3://{bucket}/local_output'\n",
    ")"
   ]
  },
  {
   "cell_type": "code",
   "execution_count": 10,
   "metadata": {},
   "outputs": [
    {
     "name": "stderr",
     "output_type": "stream",
     "text": [
      "INFO:sagemaker:Creating training-job with name: sagemaker-tensorflow-scriptmode-2019-03-13-15-26-09-314\n",
      "WARNING:sagemaker.local.image:Using the short-lived AWS credentials found in session. They might expire while running.\n"
     ]
    },
    {
     "name": "stdout",
     "output_type": "stream",
     "text": [
      "Creating tmp3cqe9hh7_algo-1-ynxr6_1 ... \n",
      "\u001b[1BAttaching to tmp3cqe9hh7_algo-1-ynxr6_1\n",
      "\u001b[36malgo-1-ynxr6_1  |\u001b[0m 2019-03-13 15:26:24,603 sagemaker-containers INFO     Imported framework sagemaker_tensorflow_container.training\n",
      "\u001b[36malgo-1-ynxr6_1  |\u001b[0m 2019-03-13 15:26:24,629 sagemaker-containers INFO     No GPUs detected (normal if no gpus installed)\n",
      "\u001b[36malgo-1-ynxr6_1  |\u001b[0m 2019-03-13 15:26:24,962 sagemaker-containers INFO     No GPUs detected (normal if no gpus installed)\n",
      "\u001b[36malgo-1-ynxr6_1  |\u001b[0m 2019-03-13 15:26:25,076 sagemaker-containers INFO     No GPUs detected (normal if no gpus installed)\n",
      "\u001b[36malgo-1-ynxr6_1  |\u001b[0m 2019-03-13 15:26:25,101 sagemaker-containers INFO     Invoking user script\n",
      "\u001b[36malgo-1-ynxr6_1  |\u001b[0m \n",
      "\u001b[36malgo-1-ynxr6_1  |\u001b[0m Training Env:\n",
      "\u001b[36malgo-1-ynxr6_1  |\u001b[0m \n",
      "\u001b[36malgo-1-ynxr6_1  |\u001b[0m {\n",
      "\u001b[36malgo-1-ynxr6_1  |\u001b[0m     \"additional_framework_parameters\": {},\n",
      "\u001b[36malgo-1-ynxr6_1  |\u001b[0m     \"channel_input_dirs\": {\n",
      "\u001b[36malgo-1-ynxr6_1  |\u001b[0m         \"train\": \"/opt/ml/input/data/train\",\n",
      "\u001b[36malgo-1-ynxr6_1  |\u001b[0m         \"validation\": \"/opt/ml/input/data/validation\"\n",
      "\u001b[36malgo-1-ynxr6_1  |\u001b[0m     },\n",
      "\u001b[36malgo-1-ynxr6_1  |\u001b[0m     \"current_host\": \"algo-1-ynxr6\",\n",
      "\u001b[36malgo-1-ynxr6_1  |\u001b[0m     \"framework_module\": \"sagemaker_tensorflow_container.training:main\",\n",
      "\u001b[36malgo-1-ynxr6_1  |\u001b[0m     \"hosts\": [\n",
      "\u001b[36malgo-1-ynxr6_1  |\u001b[0m         \"algo-1-ynxr6\"\n",
      "\u001b[36malgo-1-ynxr6_1  |\u001b[0m     ],\n",
      "\u001b[36malgo-1-ynxr6_1  |\u001b[0m     \"hyperparameters\": {\n",
      "\u001b[36malgo-1-ynxr6_1  |\u001b[0m         \"limit_data_rate\": 0.01,\n",
      "\u001b[36malgo-1-ynxr6_1  |\u001b[0m         \"model_dir\": \"s3://speg03-sagemaker/local_output/sagemaker-tensorflow-scriptmode-2019-03-13-15-26-09-314/model\"\n",
      "\u001b[36malgo-1-ynxr6_1  |\u001b[0m     },\n",
      "\u001b[36malgo-1-ynxr6_1  |\u001b[0m     \"input_config_dir\": \"/opt/ml/input/config\",\n",
      "\u001b[36malgo-1-ynxr6_1  |\u001b[0m     \"input_data_config\": {\n",
      "\u001b[36malgo-1-ynxr6_1  |\u001b[0m         \"train\": {\n",
      "\u001b[36malgo-1-ynxr6_1  |\u001b[0m             \"TrainingInputMode\": \"File\"\n",
      "\u001b[36malgo-1-ynxr6_1  |\u001b[0m         },\n",
      "\u001b[36malgo-1-ynxr6_1  |\u001b[0m         \"validation\": {\n",
      "\u001b[36malgo-1-ynxr6_1  |\u001b[0m             \"TrainingInputMode\": \"File\"\n",
      "\u001b[36malgo-1-ynxr6_1  |\u001b[0m         }\n",
      "\u001b[36malgo-1-ynxr6_1  |\u001b[0m     },\n",
      "\u001b[36malgo-1-ynxr6_1  |\u001b[0m     \"input_dir\": \"/opt/ml/input\",\n",
      "\u001b[36malgo-1-ynxr6_1  |\u001b[0m     \"is_master\": true,\n",
      "\u001b[36malgo-1-ynxr6_1  |\u001b[0m     \"job_name\": \"sagemaker-tensorflow-scriptmode-2019-03-13-15-26-09-314\",\n",
      "\u001b[36malgo-1-ynxr6_1  |\u001b[0m     \"log_level\": 20,\n",
      "\u001b[36malgo-1-ynxr6_1  |\u001b[0m     \"master_hostname\": \"algo-1-ynxr6\",\n",
      "\u001b[36malgo-1-ynxr6_1  |\u001b[0m     \"model_dir\": \"/opt/ml/model\",\n",
      "\u001b[36malgo-1-ynxr6_1  |\u001b[0m     \"module_dir\": \"s3://speg03-sagemaker/local_output/sagemaker-tensorflow-scriptmode-2019-03-13-15-26-09-314/source/sourcedir.tar.gz\",\n",
      "\u001b[36malgo-1-ynxr6_1  |\u001b[0m     \"module_name\": \"train\",\n",
      "\u001b[36malgo-1-ynxr6_1  |\u001b[0m     \"network_interface_name\": \"eth0\",\n",
      "\u001b[36malgo-1-ynxr6_1  |\u001b[0m     \"num_cpus\": 2,\n",
      "\u001b[36malgo-1-ynxr6_1  |\u001b[0m     \"num_gpus\": 0,\n",
      "\u001b[36malgo-1-ynxr6_1  |\u001b[0m     \"output_data_dir\": \"/opt/ml/output/data\",\n",
      "\u001b[36malgo-1-ynxr6_1  |\u001b[0m     \"output_dir\": \"/opt/ml/output\",\n",
      "\u001b[36malgo-1-ynxr6_1  |\u001b[0m     \"output_intermediate_dir\": \"/opt/ml/output/intermediate\",\n",
      "\u001b[36malgo-1-ynxr6_1  |\u001b[0m     \"resource_config\": {\n",
      "\u001b[36malgo-1-ynxr6_1  |\u001b[0m         \"current_host\": \"algo-1-ynxr6\",\n",
      "\u001b[36malgo-1-ynxr6_1  |\u001b[0m         \"hosts\": [\n",
      "\u001b[36malgo-1-ynxr6_1  |\u001b[0m             \"algo-1-ynxr6\"\n",
      "\u001b[36malgo-1-ynxr6_1  |\u001b[0m         ]\n",
      "\u001b[36malgo-1-ynxr6_1  |\u001b[0m     },\n",
      "\u001b[36malgo-1-ynxr6_1  |\u001b[0m     \"user_entry_point\": \"train.py\"\n",
      "\u001b[36malgo-1-ynxr6_1  |\u001b[0m }\n",
      "\u001b[36malgo-1-ynxr6_1  |\u001b[0m \n",
      "\u001b[36malgo-1-ynxr6_1  |\u001b[0m Environment variables:\n",
      "\u001b[36malgo-1-ynxr6_1  |\u001b[0m \n",
      "\u001b[36malgo-1-ynxr6_1  |\u001b[0m SM_HOSTS=[\"algo-1-ynxr6\"]\n",
      "\u001b[36malgo-1-ynxr6_1  |\u001b[0m SM_NETWORK_INTERFACE_NAME=eth0\n",
      "\u001b[36malgo-1-ynxr6_1  |\u001b[0m SM_HPS={\"limit_data_rate\":0.01,\"model_dir\":\"s3://speg03-sagemaker/local_output/sagemaker-tensorflow-scriptmode-2019-03-13-15-26-09-314/model\"}\n",
      "\u001b[36malgo-1-ynxr6_1  |\u001b[0m SM_USER_ENTRY_POINT=train.py\n",
      "\u001b[36malgo-1-ynxr6_1  |\u001b[0m SM_FRAMEWORK_PARAMS={}\n",
      "\u001b[36malgo-1-ynxr6_1  |\u001b[0m SM_RESOURCE_CONFIG={\"current_host\":\"algo-1-ynxr6\",\"hosts\":[\"algo-1-ynxr6\"]}\n",
      "\u001b[36malgo-1-ynxr6_1  |\u001b[0m SM_INPUT_DATA_CONFIG={\"train\":{\"TrainingInputMode\":\"File\"},\"validation\":{\"TrainingInputMode\":\"File\"}}\n",
      "\u001b[36malgo-1-ynxr6_1  |\u001b[0m SM_OUTPUT_DATA_DIR=/opt/ml/output/data\n",
      "\u001b[36malgo-1-ynxr6_1  |\u001b[0m SM_CHANNELS=[\"train\",\"validation\"]\n",
      "\u001b[36malgo-1-ynxr6_1  |\u001b[0m SM_CURRENT_HOST=algo-1-ynxr6\n",
      "\u001b[36malgo-1-ynxr6_1  |\u001b[0m SM_MODULE_NAME=train\n",
      "\u001b[36malgo-1-ynxr6_1  |\u001b[0m SM_LOG_LEVEL=20\n",
      "\u001b[36malgo-1-ynxr6_1  |\u001b[0m SM_FRAMEWORK_MODULE=sagemaker_tensorflow_container.training:main\n",
      "\u001b[36malgo-1-ynxr6_1  |\u001b[0m SM_INPUT_DIR=/opt/ml/input\n",
      "\u001b[36malgo-1-ynxr6_1  |\u001b[0m SM_INPUT_CONFIG_DIR=/opt/ml/input/config\n",
      "\u001b[36malgo-1-ynxr6_1  |\u001b[0m SM_OUTPUT_DIR=/opt/ml/output\n",
      "\u001b[36malgo-1-ynxr6_1  |\u001b[0m SM_NUM_CPUS=2\n",
      "\u001b[36malgo-1-ynxr6_1  |\u001b[0m SM_NUM_GPUS=0\n",
      "\u001b[36malgo-1-ynxr6_1  |\u001b[0m SM_MODEL_DIR=/opt/ml/model\n",
      "\u001b[36malgo-1-ynxr6_1  |\u001b[0m SM_MODULE_DIR=s3://speg03-sagemaker/local_output/sagemaker-tensorflow-scriptmode-2019-03-13-15-26-09-314/source/sourcedir.tar.gz\n",
      "\u001b[36malgo-1-ynxr6_1  |\u001b[0m SM_TRAINING_ENV={\"additional_framework_parameters\":{},\"channel_input_dirs\":{\"train\":\"/opt/ml/input/data/train\",\"validation\":\"/opt/ml/input/data/validation\"},\"current_host\":\"algo-1-ynxr6\",\"framework_module\":\"sagemaker_tensorflow_container.training:main\",\"hosts\":[\"algo-1-ynxr6\"],\"hyperparameters\":{\"limit_data_rate\":0.01,\"model_dir\":\"s3://speg03-sagemaker/local_output/sagemaker-tensorflow-scriptmode-2019-03-13-15-26-09-314/model\"},\"input_config_dir\":\"/opt/ml/input/config\",\"input_data_config\":{\"train\":{\"TrainingInputMode\":\"File\"},\"validation\":{\"TrainingInputMode\":\"File\"}},\"input_dir\":\"/opt/ml/input\",\"is_master\":true,\"job_name\":\"sagemaker-tensorflow-scriptmode-2019-03-13-15-26-09-314\",\"log_level\":20,\"master_hostname\":\"algo-1-ynxr6\",\"model_dir\":\"/opt/ml/model\",\"module_dir\":\"s3://speg03-sagemaker/local_output/sagemaker-tensorflow-scriptmode-2019-03-13-15-26-09-314/source/sourcedir.tar.gz\",\"module_name\":\"train\",\"network_interface_name\":\"eth0\",\"num_cpus\":2,\"num_gpus\":0,\"output_data_dir\":\"/opt/ml/output/data\",\"output_dir\":\"/opt/ml/output\",\"output_intermediate_dir\":\"/opt/ml/output/intermediate\",\"resource_config\":{\"current_host\":\"algo-1-ynxr6\",\"hosts\":[\"algo-1-ynxr6\"]},\"user_entry_point\":\"train.py\"}\n",
      "\u001b[36malgo-1-ynxr6_1  |\u001b[0m SM_USER_ARGS=[\"--limit_data_rate\",\"0.01\",\"--model_dir\",\"s3://speg03-sagemaker/local_output/sagemaker-tensorflow-scriptmode-2019-03-13-15-26-09-314/model\"]\n",
      "\u001b[36malgo-1-ynxr6_1  |\u001b[0m SM_OUTPUT_INTERMEDIATE_DIR=/opt/ml/output/intermediate\n",
      "\u001b[36malgo-1-ynxr6_1  |\u001b[0m SM_CHANNEL_TRAIN=/opt/ml/input/data/train\n",
      "\u001b[36malgo-1-ynxr6_1  |\u001b[0m SM_CHANNEL_VALIDATION=/opt/ml/input/data/validation\n",
      "\u001b[36malgo-1-ynxr6_1  |\u001b[0m SM_HP_LIMIT_DATA_RATE=0.01\n",
      "\u001b[36malgo-1-ynxr6_1  |\u001b[0m SM_HP_MODEL_DIR=s3://speg03-sagemaker/local_output/sagemaker-tensorflow-scriptmode-2019-03-13-15-26-09-314/model\n",
      "\u001b[36malgo-1-ynxr6_1  |\u001b[0m \n",
      "\u001b[36malgo-1-ynxr6_1  |\u001b[0m Invoking script with the following command:\n",
      "\u001b[36malgo-1-ynxr6_1  |\u001b[0m \n",
      "\u001b[36malgo-1-ynxr6_1  |\u001b[0m /usr/bin/python train.py --limit_data_rate 0.01 --model_dir s3://speg03-sagemaker/local_output/sagemaker-tensorflow-scriptmode-2019-03-13-15-26-09-314/model\n",
      "\u001b[36malgo-1-ynxr6_1  |\u001b[0m \n",
      "\u001b[36malgo-1-ynxr6_1  |\u001b[0m \n",
      "\u001b[36malgo-1-ynxr6_1  |\u001b[0m Train on 500 samples, validate on 100 samples\n",
      "\u001b[36malgo-1-ynxr6_1  |\u001b[0m Epoch 1/10\n",
      "\u001b[36malgo-1-ynxr6_1  |\u001b[0m  - 3s - loss: 2.7498 - acc: 0.1080 - val_loss: 2.3147 - val_acc: 0.1100\n",
      "\u001b[36malgo-1-ynxr6_1  |\u001b[0m Epoch 2/10\n",
      "\u001b[36malgo-1-ynxr6_1  |\u001b[0m  - 1s - loss: 2.3003 - acc: 0.1400 - val_loss: 2.3134 - val_acc: 0.0600\n",
      "\u001b[36malgo-1-ynxr6_1  |\u001b[0m Epoch 3/10\n",
      "\u001b[36malgo-1-ynxr6_1  |\u001b[0m  - 1s - loss: 2.3015 - acc: 0.1300 - val_loss: 2.3141 - val_acc: 0.0600\n",
      "\u001b[36malgo-1-ynxr6_1  |\u001b[0m Epoch 4/10\n",
      "\u001b[36malgo-1-ynxr6_1  |\u001b[0m  - 1s - loss: 2.2980 - acc: 0.1320 - val_loss: 2.3095 - val_acc: 0.0600\n",
      "\u001b[36malgo-1-ynxr6_1  |\u001b[0m Epoch 5/10\n",
      "\u001b[36malgo-1-ynxr6_1  |\u001b[0m  - 1s - loss: 2.2967 - acc: 0.1220 - val_loss: 2.3218 - val_acc: 0.0600\n",
      "\u001b[36malgo-1-ynxr6_1  |\u001b[0m Epoch 6/10\n",
      "\u001b[36malgo-1-ynxr6_1  |\u001b[0m  - 1s - loss: 2.2975 - acc: 0.1300 - val_loss: 2.3172 - val_acc: 0.0600\n",
      "\u001b[36malgo-1-ynxr6_1  |\u001b[0m Epoch 7/10\n",
      "\u001b[36malgo-1-ynxr6_1  |\u001b[0m  - 1s - loss: 2.2977 - acc: 0.1200 - val_loss: 2.3067 - val_acc: 0.0600\n",
      "\u001b[36malgo-1-ynxr6_1  |\u001b[0m Epoch 8/10\n",
      "\u001b[36malgo-1-ynxr6_1  |\u001b[0m  - 1s - loss: 2.2982 - acc: 0.1360 - val_loss: 2.3105 - val_acc: 0.0600\n",
      "\u001b[36malgo-1-ynxr6_1  |\u001b[0m Epoch 9/10\n",
      "\u001b[36malgo-1-ynxr6_1  |\u001b[0m  - 1s - loss: 2.2963 - acc: 0.1320 - val_loss: 2.3145 - val_acc: 0.0600\n",
      "\u001b[36malgo-1-ynxr6_1  |\u001b[0m Epoch 10/10\n",
      "\u001b[36malgo-1-ynxr6_1  |\u001b[0m  - 1s - loss: 2.3000 - acc: 0.1280 - val_loss: 2.3106 - val_acc: 0.0600\n",
      "\u001b[36malgo-1-ynxr6_1  |\u001b[0m 2019-03-13 15:26:45,652 sagemaker-containers INFO     Reporting training SUCCESS\n",
      "\u001b[36mtmp3cqe9hh7_algo-1-ynxr6_1 exited with code 0\n",
      "\u001b[0mAborting on container exit...\n",
      "===== Job Complete =====\n"
     ]
    }
   ],
   "source": [
    "estimator.fit(dict(train=train_data, validation=val_data))"
   ]
  }
 ],
 "metadata": {
  "kernelspec": {
   "display_name": "Python 3",
   "language": "python",
   "name": "python3"
  },
  "language_info": {
   "codemirror_mode": {
    "name": "ipython",
    "version": 3
   },
   "file_extension": ".py",
   "mimetype": "text/x-python",
   "name": "python",
   "nbconvert_exporter": "python",
   "pygments_lexer": "ipython3",
   "version": "3.6.8"
  }
 },
 "nbformat": 4,
 "nbformat_minor": 2
}
